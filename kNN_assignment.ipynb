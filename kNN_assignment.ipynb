{
  "nbformat": 4,
  "nbformat_minor": 0,
  "metadata": {
    "kernelspec": {
      "name": "python3",
      "display_name": "Python 3"
    },
    "language_info": {
      "codemirror_mode": {
        "name": "ipython",
        "version": 3
      },
      "file_extension": ".py",
      "mimetype": "text/x-python",
      "name": "python",
      "nbconvert_exporter": "python",
      "pygments_lexer": "ipython3",
      "version": "3.6.5"
    },
    "colab": {
      "name": "kNN assignment.ipynb",
      "provenance": [],
      "collapsed_sections": []
    },
    "accelerator": "GPU"
  },
  "cells": [
    {
      "cell_type": "markdown",
      "metadata": {
        "id": "NYqF-b6dBoXn",
        "colab_type": "text"
      },
      "source": [
        "Import and setup some auxiliary functions"
      ]
    },
    {
      "cell_type": "code",
      "metadata": {
        "id": "dL4u1UElBoXo",
        "colab_type": "code",
        "colab": {}
      },
      "source": [
        "import torch\n",
        "from torchvision import datasets, transforms\n",
        "import numpy as np\n",
        "import timeit\n",
        "from collections import OrderedDict\n",
        "from pprint import pformat\n",
        "\n",
        "\n",
        "def compute_score(acc, min_thres, max_thres):\n",
        "    if acc <= min_thres:\n",
        "        base_score = 0.0\n",
        "    elif acc >= max_thres:\n",
        "        base_score = 100.0\n",
        "    else:\n",
        "        base_score = float(acc - min_thres) / (max_thres - min_thres) \\\n",
        "                     * 100\n",
        "    return base_score\n",
        "\n",
        "\n",
        "def run(algorithm, x_train, y_train, x_test, y_test, n_classes, device):\n",
        "    print('Running...')        \n",
        "    if device != 'cpu' and torch.cuda.is_available():\n",
        "        device = torch.device(\"cuda\")\n",
        "        print('Training on GPU: {}'.format(torch.cuda.get_device_name(0)))\n",
        "    else:\n",
        "        device = torch.device(\"cpu\")\n",
        "        print('Training on CPU')\n",
        "        \n",
        "    start = timeit.default_timer()\n",
        "    np.random.seed(0)\n",
        "    predicted_y_test = algorithm(x_train, y_train, x_test, n_classes, device)\n",
        "    np.random.seed()\n",
        "    stop = timeit.default_timer()\n",
        "    run_time = stop - start\n",
        "\n",
        "    correct_predict = (y_test\n",
        "                       == predicted_y_test).astype(np.int32).sum()\n",
        "    incorrect_predict = len(y_test) - correct_predict\n",
        "    accuracy = float(correct_predict) / len(y_test)\n",
        "\n",
        "    print('Correct Predict: {}/{} total \\tAccuracy: {:5f} \\tTime: {:2f}'.format(correct_predict,\n",
        "                                                                                len(y_test), accuracy, run_time))\n",
        "    return correct_predict, accuracy, run_time"
      ],
      "execution_count": 4,
      "outputs": []
    },
    {
      "cell_type": "markdown",
      "metadata": {
        "id": "m5_lbZASBoXr",
        "colab_type": "text"
      },
      "source": [
        "TODO: Implement knn here"
      ]
    },
    {
      "cell_type": "code",
      "metadata": {
        "id": "9yHgmydUBoXr",
        "colab_type": "code",
        "colab": {}
      },
      "source": [
        "def knn(x_train, y_train, x_test, n_classes, device):\n",
        "    \"\"\"\n",
        "    x_train: 60000 x 784 matrix: each row is a flattened image of an MNIST digit\n",
        "    y_train: 60000 vector: label for x_train\n",
        "    x_test: 1000 x 784 testing images\n",
        "    n_classes: no. of classes in the classification task\n",
        "    device: pytorch device on which to run the code\n",
        "    return: predicted y_test which is a 1000-sized vector\n",
        "    \"\"\"\n",
        "    k = 6\n",
        "    \n",
        "    y_pred = torch.zeros(len(x_test))\n",
        "\n",
        "    x_traingpu = torch.tensor(x_train/255, dtype=torch.float, device=device)\n",
        "    x_testgpu = torch.tensor(x_test/255, dtype=torch.float, device=device)\n",
        "    y_traingpu = torch.tensor(y_train, dtype=torch.float, device=device)\n",
        "\n",
        "    for i in range(len(x_test)):\n",
        "        # tried three distance functions\n",
        "\n",
        "        # calculating Euclidean distance\n",
        "        diffr2=torch.square(x_traingpu - x_testgpu[i])\n",
        "        dist = torch.sqrt(torch.sum(diffr2,1))\n",
        "        #dist = np.sum(np.abs(x_traingpu-x_testgpu[i]), axis=1)\n",
        "        #dist =np.sum(x_traingpu*x_testgpu[i],axis=1)/(np.sqrt(np.sum(np.square(x_traingpu), axis = 1))*np.sqrt(np.sum(np.square(x_testgpu[i]))))\n",
        "        \n",
        "        # find k closest indices\n",
        "        kidx = (torch.topk(dist,k,largest=False))[1]\n",
        "\n",
        "        # compare closest items to training data, find out the \n",
        "        # most appeared label, put it in to the y_pred list\n",
        "        labels = torch.gather(y_traingpu,0,kidx)\n",
        "        one_mtrix = torch.nn.functional.one_hot(labels.to(torch.int64),10)\n",
        "        counts = torch.sum(one_mtrix,0)\n",
        "        y_pred[i] = torch.argmax(counts).float()\n",
        "    \n",
        "    # return predicted value, using .cpu().numpy() to avoid cuda:0 TypeError\n",
        "    return y_pred.cpu().numpy()\n",
        "    raise NotImplementedError"
      ],
      "execution_count": 5,
      "outputs": []
    },
    {
      "cell_type": "markdown",
      "metadata": {
        "id": "VkZ_qUyeBoXt",
        "colab_type": "text"
      },
      "source": [
        "Main loop. You can only run this after filling the knn function above"
      ]
    },
    {
      "cell_type": "code",
      "metadata": {
        "id": "skv5jrRCBoXu",
        "colab_type": "code",
        "colab": {
          "base_uri": "https://localhost:8080/",
          "height": 190
        },
        "outputId": "bd222f4a-024e-4966-f57d-6c6bd33c9e1f"
      },
      "source": [
        "min_thres = 0.84\n",
        "max_thres = 0.94\n",
        "n_classes = 10\n",
        "# change to cpu to run on CPU\n",
        "device = 'gpu'\n",
        "\n",
        "mnist_train = datasets.MNIST('data', train=True, download=True,\n",
        "                             transform=transforms.Compose([\n",
        "                                 transforms.Normalize((0.1307,), (0.3081,)),\n",
        "                             ])\n",
        "                             )\n",
        "mnist_test = datasets.MNIST('data', train=False, download=True,\n",
        "                             transform=transforms.Compose([\n",
        "                                 transforms.Normalize((0.1307,), (0.3081,)),\n",
        "                             ])\n",
        "                            )\n",
        "result = [OrderedDict(first_name='Insert your First name here',\n",
        "                      last_name='Insert your Last name here')]\n",
        "\n",
        "# convert pytorch tensors to numpy arrays\n",
        "(x_train, y_train) = (mnist_train.data.cpu().numpy(), mnist_train.targets.cpu().numpy())\n",
        "(x_valid, y_valid) = (mnist_test.data.cpu().numpy(), mnist_test.targets.cpu().numpy())\n",
        "\n",
        "# flatten 28x28 images into 784 sized vectors\n",
        "x_train = x_train.reshape(x_train.shape[0], -1)\n",
        "x_valid = x_valid.reshape(x_valid.shape[0], -1)\n",
        "\n",
        "# You may want to use a smaller training set to save time when debugging\n",
        "# i.e.: Put something like:\n",
        "# (x_train, y_train) = (x_train[:5000], y_train[:5000])\n",
        "\n",
        "# For this assignment, we only test on the first 1000 samples of the test set\n",
        "(x_valid, y_valid) = (x_valid[:1000], y_valid[:1000])\n",
        "\n",
        "print(\"Dimension of dataset: \")\n",
        "print(\"Train:\", x_train.shape, y_train.shape, \"\\nTest:\", x_valid.shape, y_valid.shape)\n",
        "\n",
        "(correct_predict, accuracy, run_time) = run(knn, x_train, y_train, x_valid, y_valid, n_classes, device)\n",
        "score = compute_score(accuracy, min_thres, max_thres)\n",
        "result = OrderedDict(correct_predict=correct_predict,\n",
        "                     accuracy=accuracy, score=score,\n",
        "                     run_time=run_time)\n",
        "\n",
        "with open('result.txt', 'w') as f:\n",
        "    f.writelines(pformat(result, indent=4))\n",
        "\n",
        "print(pformat(result, indent=4))"
      ],
      "execution_count": 6,
      "outputs": [
        {
          "output_type": "stream",
          "text": [
            "Dimension of dataset: \n",
            "Train: (60000, 784) (60000,) \n",
            "Test: (1000, 784) (1000,)\n",
            "Running...\n",
            "Training on GPU: Tesla T4\n",
            "Correct Predict: 962/1000 total \tAccuracy: 0.962000 \tTime: 4.717577\n",
            "OrderedDict([   ('correct_predict', 962),\n",
            "                ('accuracy', 0.962),\n",
            "                ('score', 100.0),\n",
            "                ('run_time', 4.717577235000007)])\n"
          ],
          "name": "stdout"
        }
      ]
    }
  ]
}